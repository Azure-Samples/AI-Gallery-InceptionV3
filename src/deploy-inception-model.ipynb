{
 "cells": [
  {
   "cell_type": "markdown",
   "metadata": {},
   "source": [
    "Copyright (c) Microsoft Corporation. All rights reserved.\n",
    "\n",
    "Licensed under the MIT License."
   ]
  },
  {
   "cell_type": "markdown",
   "metadata": {},
   "source": [
    "## Running Inceptionv3 as an Azure Machine Learning Service \n",
    "\n",
    "This notebook guides you to register Inception-v3 model in Azure Machine Learning Service, deploy it as a web service, and run inference by providing input images.  "
   ]
  },
  {
   "cell_type": "markdown",
   "metadata": {},
   "source": [
    "### Download Inception V3 Models"
   ]
  },
  {
   "cell_type": "code",
   "execution_count": null,
   "metadata": {
    "scrolled": true
   },
   "outputs": [],
   "source": [
    "import time\n",
    "\n",
    "start = time.time()\n",
    "\n",
    "!wget -nc -P model/ http://download.tensorflow.org/models/image/imagenet/inception-2015-12-05.tgz\n",
    "!tar xvzf model/inception-2015-12-05.tgz -C model/\n",
    "!rm model/cropped_panda.jpg\n",
    "!rm model/inception-2015-12-05.tgz\n",
    "    \n",
    "end = time.time()\n",
    "print(\"Model download latency: {} seconds\".format(end-start))"
   ]
  },
  {
   "cell_type": "markdown",
   "metadata": {},
   "source": [
    "### Load AML Workspace"
   ]
  },
  {
   "cell_type": "code",
   "execution_count": null,
   "metadata": {},
   "outputs": [],
   "source": [
    "from azureml.core import Workspace\n",
    "ws = Workspace.from_config()\n",
    "print(ws.name, ws.subscription_id, ws.resource_group, ws.location)"
   ]
  },
  {
   "cell_type": "markdown",
   "metadata": {},
   "source": [
    "### Register Inception-v3 Models in Azure Machine Learning Service\n",
    "\n",
    "You can use following python code snippets to register models to Model Management Service provided by Azure Machine Learning."
   ]
  },
  {
   "cell_type": "code",
   "execution_count": null,
   "metadata": {},
   "outputs": [],
   "source": [
    "from azureml.core.model import Model\n",
    "\n",
    "models = []\n",
    "\n",
    "start = time.time()\n",
    "new_model = Model.register(\n",
    "    workspace = ws,\n",
    "    model_path = \"model/classify_image_graph_def.pb\",\n",
    "    model_name = \"classify_image_graph_def\")\n",
    "models.append(new_model)\n",
    "\n",
    "end = time.time()\n",
    "print(\"Register model latency: {} seconds\".format(end-start))\n",
    "print(\"Model id={}, name={}, created time={}\".format(\n",
    "    new_model.id, \n",
    "    new_model.name, \n",
    "    new_model.created_time))"
   ]
  },
  {
   "cell_type": "code",
   "execution_count": null,
   "metadata": {},
   "outputs": [],
   "source": [
    "start = time.time()\n",
    "new_model = Model.register(\n",
    "    workspace = ws,\n",
    "    model_path = \"model/imagenet_2012_challenge_label_map_proto.pbtxt\",\n",
    "    model_name = \"imagenet_label_map\")\n",
    "models.append(new_model)\n",
    "\n",
    "end = time.time()\n",
    "print(\"Register model latency: {} seconds\".format(end-start))\n",
    "print(\"Model id={}, name={}, created time={}\".format(\n",
    "    new_model.id, \n",
    "    new_model.name, \n",
    "    new_model.created_time))"
   ]
  },
  {
   "cell_type": "code",
   "execution_count": null,
   "metadata": {},
   "outputs": [],
   "source": [
    "start = time.time()\n",
    "new_model = Model.register(\n",
    "    workspace = ws,\n",
    "    model_path = \"model/imagenet_synset_to_human_label_map.txt\",\n",
    "    model_name = \"imagenet_s2h_label_map\")\n",
    "models.append(new_model)\n",
    "\n",
    "end = time.time()\n",
    "print(\"Register model latency: {} seconds\".format(end-start))\n",
    "print(\"Model id={}, name={}, created time={}\".format(\n",
    "    new_model.id, \n",
    "    new_model.name, \n",
    "    new_model.created_time))"
   ]
  },
  {
   "cell_type": "markdown",
   "metadata": {},
   "source": [
    "### Build Container Image \n",
    "\n",
    "Next, we will create a docker image which runs a flask web service. The web service has multiple endpoints to serve the inception-v3 models."
   ]
  },
  {
   "cell_type": "code",
   "execution_count": null,
   "metadata": {},
   "outputs": [],
   "source": [
    "from azureml.core.image import Image, ContainerImage\n",
    "\n",
    "image_config = ContainerImage.image_configuration(\n",
    "    execution_script = \"score.py\",\n",
    "    runtime = \"python\", \n",
    "    dependencies = [\"app.py\", \"ui.html\", \"inception.py\"],\n",
    "    conda_file = \"env.yml\")\n",
    "\n",
    "start = time.time()\n",
    "image = Image.create(\n",
    "    workspace = ws,\n",
    "    name = \"inception-v3-demo-image\",\n",
    "    models = models,\n",
    "    image_config = image_config\n",
    ")\n",
    "\n",
    "image.wait_for_creation(show_output = True)\n",
    "\n",
    "end = time.time()\n",
    "print(\"Image creation latency: {} seconds\".format(end-start))"
   ]
  },
  {
   "cell_type": "markdown",
   "metadata": {},
   "source": [
    "### Deploy Image to ACI\n",
    "\n",
    "After we successfully create the image, we will use Azure Machine Leaning's python SDK to deploy it via Azure Container Instances (ACI)"
   ]
  },
  {
   "cell_type": "code",
   "execution_count": null,
   "metadata": {},
   "outputs": [],
   "source": [
    "from azureml.core.webservice import AciWebservice, Webservice\n",
    "\n",
    "aci_config = AciWebservice.deploy_configuration(cpu_cores = 1, memory_gb = 1)\n",
    "\n",
    "start = time.time()\n",
    "aci_service = Webservice.deploy_from_image(\n",
    "    workspace = ws,\n",
    "    name = \"inception-v3-demo-service\",\n",
    "    image = image,\n",
    "    deployment_config = aci_config)\n",
    "aci_service.wait_for_deployment(show_output = True)\n",
    "\n",
    "end = time.time()\n",
    "print(\"Service deployment latency: {} seconds\".format(end-start))\n",
    "\n",
    "if (aci_service.state != 'Healthy'):\n",
    "    raise ValueError(\"service deployment is in bad state: {}\".format(aci_service.state))"
   ]
  },
  {
   "cell_type": "markdown",
   "metadata": {},
   "source": [
    "### Run Inferences\n",
    "\n",
    "There are a few different ways to call the web service we just deployed to classify images. \n",
    "\n",
    "**Run Inception-v3 interactively**\n",
    "\n",
    "The web service provides a UI page. You can drag and drop image and receive the prediction in real-time"
   ]
  },
  {
   "cell_type": "code",
   "execution_count": null,
   "metadata": {},
   "outputs": [],
   "source": [
    "# Get interactive demo URL \n",
    "scoring_uri = aci_service.scoring_uri\n",
    "demo_uri = scoring_uri.replace(\"/score\", \"/ui\")\n",
    "print(\"Try out the inception-v3 model at {}\".format(demo_uri))"
   ]
  },
  {
   "cell_type": "markdown",
   "metadata": {},
   "source": [
    "**Run Inception-v3 programmatically**\n",
    "\n",
    "The web serivce also provides a POST REST API which you can call by providing the binary data of an image. Below is an example of calling that REST API with one of the sample images included in this repository. Try that images as well :). "
   ]
  },
  {
   "cell_type": "code",
   "execution_count": null,
   "metadata": {},
   "outputs": [],
   "source": [
    "from IPython.display import Image\n",
    "imageFilename = \"SampleImages/dog.jpg\"\n",
    "dogImage = Image(imageFilename)\n",
    "print(\"Here is the image:\")\n",
    "dogImage"
   ]
  },
  {
   "cell_type": "code",
   "execution_count": null,
   "metadata": {},
   "outputs": [],
   "source": [
    "print(\"Here is the prediction of Inception-v3 model:\")\n",
    "!curl $scoring_uri --data-binary @$imageFilename -H \"Content-Type: application/octet-stream\""
   ]
  },
  {
   "cell_type": "markdown",
   "metadata": {},
   "source": [
    "### Cleanup Resources\n",
    "\n",
    "Delete the web serivce, image, and models"
   ]
  },
  {
   "cell_type": "code",
   "execution_count": null,
   "metadata": {},
   "outputs": [],
   "source": [
    "aci_service.delete()\n",
    "image.delete()\n",
    "for m in models:\n",
    "    m.delete()\n",
    "print(\"Successfully deleted models, image and service.\")"
   ]
  },
  {
   "cell_type": "code",
   "execution_count": null,
   "metadata": {},
   "outputs": [],
   "source": []
  }
 ],
 "metadata": {
  "authors": [
   {
    "name": "andyxu"
   }
  ],
  "kernelspec": {
   "display_name": "Python 3.6",
   "language": "python",
   "name": "python36"
  },
  "language_info": {
   "codemirror_mode": {
    "name": "ipython",
    "version": 3
   },
   "file_extension": ".py",
   "mimetype": "text/x-python",
   "name": "python",
   "nbconvert_exporter": "python",
   "pygments_lexer": "ipython3",
   "version": "3.6.5"
  }
 },
 "nbformat": 4,
 "nbformat_minor": 2
}
